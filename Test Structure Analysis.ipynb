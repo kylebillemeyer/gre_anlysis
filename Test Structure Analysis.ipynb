{
 "cells": [
  {
   "cell_type": "code",
   "execution_count": null,
   "metadata": {},
   "outputs": [],
   "source": [
    "import pandas as pd\n",
    "from io import BytesIO\n",
    "import requests\n",
    "from collections import Counter\n",
    "\n",
    "def fetch_data(url, skiprows=0):\n",
    "    r = requests.get(url)\n",
    "    data = r.content\n",
    "\n",
    "    return pd.read_csv(BytesIO(data), index_col=0, skiprows=skiprows)\n",
    "\n",
    "practice_sets = fetch_data(\"https://docs.google.com/spreadsheets/d/1JyGlqmLg9k7UubOw-V_CC8McRZxn2PtknvsrMIxvLGk/export?gid=1907623426&format=csv\", 0)\n",
    "practice_sets"
   ]
  },
  {
   "cell_type": "code",
   "execution_count": null,
   "metadata": {},
   "outputs": [],
   "source": [
    "categories = scrubbed_sets.keys()[3:]\n",
    "repl_nan = { i : False for i in scrubbed_sets.keys()[3:]}\n",
    "repl_checked = { i : 'x' for i in scrubbed_sets.keys()[3:]}\n",
    "\n",
    "scrubbed_sets = practice_sets.fillna(value=repl_nan).replace(repl_checked, True)\n",
    "scrubbed_sets.head()"
   ]
  },
  {
   "cell_type": "code",
   "execution_count": null,
   "metadata": {},
   "outputs": [],
   "source": [
    "gb = scrubbed_sets.groupby('Set Id')\n",
    "cat_avgs = (gb[categories].sum() / gb[categories].count() * 20).mean()\n",
    "cat_avgs[categories]"
   ]
  },
  {
   "cell_type": "markdown",
   "metadata": {},
   "source": [
    "This will calculate the count of each question type for each practice set we have data for, along with overall average and variance.\n",
    "\n",
    "Note: the final result is normalized to be a percent of each 20 question test to make it directly comparable to our catalog percentages."
   ]
  },
  {
   "cell_type": "code",
   "execution_count": 201,
   "metadata": {},
   "outputs": [
    {
     "data": {
      "text/plain": [
       "Type\n",
       "MA    0.0875\n",
       "MC    0.4400\n",
       "NE    0.0950\n",
       "QC    0.3775\n",
       "dtype: float64"
      ]
     },
     "execution_count": 201,
     "metadata": {},
     "output_type": "execute_result"
    }
   ],
   "source": [
    "gb2 = scrubbed_sets.groupby(['Set Id', 'Type'])[categories]\n",
    "qs_in_set = [25 for i in range(0, 8)] + [20 for i in range(0, 24)] # 8 sets, 4 rows per set\n",
    "qs_per_set = gb2.count()['Type'].divide(qs_in_set, axis='index') * 20\n",
    "#qs_per_set.groupby('Type').mean()\n",
    "#qs_per_set.groupby('Type').var()\n",
    "#qs_per_set.groupby('Type').max() - qs_per_set.groupby('Type').min()\n",
    "target_weights = qs_per_set.groupby('Type').mean() / 20\n",
    "target_weights"
   ]
  },
  {
   "cell_type": "markdown",
   "metadata": {},
   "source": []
  },
  {
   "cell_type": "code",
   "execution_count": null,
   "metadata": {},
   "outputs": [],
   "source": []
  },
  {
   "cell_type": "code",
   "execution_count": null,
   "metadata": {},
   "outputs": [],
   "source": []
  },
  {
   "cell_type": "code",
   "execution_count": null,
   "metadata": {},
   "outputs": [],
   "source": []
  }
 ],
 "metadata": {
  "kernelspec": {
   "display_name": "Python 3",
   "language": "python",
   "name": "python3"
  },
  "language_info": {
   "codemirror_mode": {
    "name": "ipython",
    "version": 3
   },
   "file_extension": ".py",
   "mimetype": "text/x-python",
   "name": "python",
   "nbconvert_exporter": "python",
   "pygments_lexer": "ipython3",
   "version": "3.7.3"
  }
 },
 "nbformat": 4,
 "nbformat_minor": 2
}
